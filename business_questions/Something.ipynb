{
 "cells": [
  {
   "cell_type": "code",
   "execution_count": 1,
   "metadata": {},
   "outputs": [],
   "source": [
    "import sys"
   ]
  },
  {
   "cell_type": "code",
   "execution_count": null,
   "metadata": {},
   "outputs": [],
   "source": [
    "sys.executable\n",
    "# for use with\n",
    "# /usr/local/opt/python@3.8/bin/python3.8 -m pip install ipython-sql"
   ]
  },
  {
   "cell_type": "code",
   "execution_count": null,
   "metadata": {},
   "outputs": [],
   "source": []
  },
  {
   "cell_type": "code",
   "execution_count": 1,
   "metadata": {},
   "outputs": [],
   "source": [
    "%%capture\n",
    "%load_ext sql\n",
    "%sql sqlite:///chinook.db"
   ]
  },
  {
   "cell_type": "code",
   "execution_count": 2,
   "metadata": {},
   "outputs": [
    {
     "name": "stdout",
     "output_type": "stream",
     "text": [
      " * sqlite:///chinook.db\n",
      "Done.\n"
     ]
    },
    {
     "data": {
      "text/html": [
       "<table>\n",
       "    <tr>\n",
       "        <th>type</th>\n",
       "        <th>name</th>\n",
       "        <th>tbl_name</th>\n",
       "        <th>rootpage</th>\n",
       "        <th>sql</th>\n",
       "    </tr>\n",
       "    <tr>\n",
       "        <td>table</td>\n",
       "        <td>album</td>\n",
       "        <td>album</td>\n",
       "        <td>2</td>\n",
       "        <td>CREATE TABLE [album]<br>(<br>    [album_id] INTEGER PRIMARY KEY NOT NULL,<br>    [title] NVARCHAR(160)  NOT NULL,<br>    [artist_id] INTEGER  NOT NULL,<br>    FOREIGN KEY ([artist_id]) REFERENCES [artist] ([artist_id]) <br>\t\tON DELETE NO ACTION ON UPDATE NO ACTION<br>)</td>\n",
       "    </tr>\n",
       "    <tr>\n",
       "        <td>table</td>\n",
       "        <td>artist</td>\n",
       "        <td>artist</td>\n",
       "        <td>3</td>\n",
       "        <td>CREATE TABLE [artist]<br>(<br>    [artist_id] INTEGER PRIMARY KEY NOT NULL,<br>    [name] NVARCHAR(120)<br>)</td>\n",
       "    </tr>\n",
       "    <tr>\n",
       "        <td>table</td>\n",
       "        <td>customer</td>\n",
       "        <td>customer</td>\n",
       "        <td>4</td>\n",
       "        <td>CREATE TABLE [customer]<br>(<br>    [customer_id] INTEGER PRIMARY KEY NOT NULL,<br>    [first_name] NVARCHAR(40)  NOT NULL,<br>    [last_name] NVARCHAR(20)  NOT NULL,<br>    [company] NVARCHAR(80),<br>    [address] NVARCHAR(70),<br>    [city] NVARCHAR(40),<br>    [state] NVARCHAR(40),<br>    [country] NVARCHAR(40),<br>    [postal_code] NVARCHAR(10),<br>    [phone] NVARCHAR(24),<br>    [fax] NVARCHAR(24),<br>    [email] NVARCHAR(60)  NOT NULL,<br>    [support_rep_id] INTEGER,<br>    FOREIGN KEY ([support_rep_id]) REFERENCES [employee] ([employee_id]) <br>\t\tON DELETE NO ACTION ON UPDATE NO ACTION<br>)</td>\n",
       "    </tr>\n",
       "    <tr>\n",
       "        <td>table</td>\n",
       "        <td>employee</td>\n",
       "        <td>employee</td>\n",
       "        <td>5</td>\n",
       "        <td>CREATE TABLE [employee]<br>(<br>    [employee_id] INTEGER PRIMARY KEY NOT NULL,<br>    [last_name] NVARCHAR(20)  NOT NULL,<br>    [first_name] NVARCHAR(20)  NOT NULL,<br>    [title] NVARCHAR(30),<br>    [reports_to] INTEGER,<br>    [birthdate] DATETIME,<br>    [hire_date] DATETIME,<br>    [address] NVARCHAR(70),<br>    [city] NVARCHAR(40),<br>    [state] NVARCHAR(40),<br>    [country] NVARCHAR(40),<br>    [postal_code] NVARCHAR(10),<br>    [phone] NVARCHAR(24),<br>    [fax] NVARCHAR(24),<br>    [email] NVARCHAR(60),<br>    FOREIGN KEY ([reports_to]) REFERENCES [employee] ([employee_id]) <br>\t\tON DELETE NO ACTION ON UPDATE NO ACTION<br>)</td>\n",
       "    </tr>\n",
       "    <tr>\n",
       "        <td>table</td>\n",
       "        <td>genre</td>\n",
       "        <td>genre</td>\n",
       "        <td>6</td>\n",
       "        <td>CREATE TABLE [genre]<br>(<br>    [genre_id] INTEGER PRIMARY KEY NOT NULL,<br>    [name] NVARCHAR(120)<br>)</td>\n",
       "    </tr>\n",
       "    <tr>\n",
       "        <td>table</td>\n",
       "        <td>invoice</td>\n",
       "        <td>invoice</td>\n",
       "        <td>7</td>\n",
       "        <td>CREATE TABLE [invoice]<br>(<br>    [invoice_id] INTEGER PRIMARY KEY NOT NULL,<br>    [customer_id] INTEGER  NOT NULL,<br>    [invoice_date] DATETIME  NOT NULL,<br>    [billing_address] NVARCHAR(70),<br>    [billing_city] NVARCHAR(40),<br>    [billing_state] NVARCHAR(40),<br>    [billing_country] NVARCHAR(40),<br>    [billing_postal_code] NVARCHAR(10),<br>    [total] NUMERIC(10,2)  NOT NULL,<br>    FOREIGN KEY ([customer_id]) REFERENCES [customer] ([customer_id]) <br>\t\tON DELETE NO ACTION ON UPDATE NO ACTION<br>)</td>\n",
       "    </tr>\n",
       "    <tr>\n",
       "        <td>table</td>\n",
       "        <td>invoice_line</td>\n",
       "        <td>invoice_line</td>\n",
       "        <td>8</td>\n",
       "        <td>CREATE TABLE [invoice_line]<br>(<br>    [invoice_line_id] INTEGER PRIMARY KEY NOT NULL,<br>    [invoice_id] INTEGER  NOT NULL,<br>    [track_id] INTEGER  NOT NULL,<br>    [unit_price] NUMERIC(10,2)  NOT NULL,<br>    [quantity] INTEGER  NOT NULL,<br>    FOREIGN KEY ([invoice_id]) REFERENCES [invoice] ([invoice_id]) <br>\t\tON DELETE NO ACTION ON UPDATE NO ACTION,<br>    FOREIGN KEY ([track_id]) REFERENCES [track] ([track_id]) <br>\t\tON DELETE NO ACTION ON UPDATE NO ACTION<br>)</td>\n",
       "    </tr>\n",
       "    <tr>\n",
       "        <td>table</td>\n",
       "        <td>media_type</td>\n",
       "        <td>media_type</td>\n",
       "        <td>9</td>\n",
       "        <td>CREATE TABLE [media_type]<br>(<br>    [media_type_id] INTEGER PRIMARY KEY NOT NULL,<br>    [name] NVARCHAR(120)<br>)</td>\n",
       "    </tr>\n",
       "    <tr>\n",
       "        <td>table</td>\n",
       "        <td>playlist</td>\n",
       "        <td>playlist</td>\n",
       "        <td>10</td>\n",
       "        <td>CREATE TABLE [playlist]<br>(<br>    [playlist_id] INTEGER PRIMARY KEY NOT NULL,<br>    [name] NVARCHAR(120)<br>)</td>\n",
       "    </tr>\n",
       "    <tr>\n",
       "        <td>table</td>\n",
       "        <td>playlist_track</td>\n",
       "        <td>playlist_track</td>\n",
       "        <td>11</td>\n",
       "        <td>CREATE TABLE [playlist_track]<br>(<br>    [playlist_id] INTEGER  NOT NULL,<br>    [track_id] INTEGER  NOT NULL,<br>    CONSTRAINT [pk_playlist_track] PRIMARY KEY  ([playlist_id], [track_id]),<br>    FOREIGN KEY ([playlist_id]) REFERENCES [playlist] ([playlist_id]) <br>\t\tON DELETE NO ACTION ON UPDATE NO ACTION,<br>    FOREIGN KEY ([track_id]) REFERENCES [track] ([track_id]) <br>\t\tON DELETE NO ACTION ON UPDATE NO ACTION<br>)</td>\n",
       "    </tr>\n",
       "    <tr>\n",
       "        <td>table</td>\n",
       "        <td>track</td>\n",
       "        <td>track</td>\n",
       "        <td>13</td>\n",
       "        <td>CREATE TABLE [track]<br>(<br>    [track_id] INTEGER PRIMARY KEY NOT NULL,<br>    [name] NVARCHAR(200)  NOT NULL,<br>    [album_id] INTEGER,<br>    [media_type_id] INTEGER  NOT NULL,<br>    [genre_id] INTEGER,<br>    [composer] NVARCHAR(220),<br>    [milliseconds] INTEGER  NOT NULL,<br>    [bytes] INTEGER,<br>    [unit_price] NUMERIC(10,2)  NOT NULL,<br>    FOREIGN KEY ([album_id]) REFERENCES [album] ([album_id]) <br>\t\tON DELETE NO ACTION ON UPDATE NO ACTION,<br>    FOREIGN KEY ([genre_id]) REFERENCES [genre] ([genre_id]) <br>\t\tON DELETE NO ACTION ON UPDATE NO ACTION,<br>    FOREIGN KEY ([media_type_id]) REFERENCES [media_type] ([media_type_id]) <br>\t\tON DELETE NO ACTION ON UPDATE NO ACTION<br>)</td>\n",
       "    </tr>\n",
       "</table>"
      ],
      "text/plain": [
       "[('table', 'album', 'album', 2, 'CREATE TABLE [album]\\n(\\n    [album_id] INTEGER PRIMARY KEY NOT NULL,\\n    [title] NVARCHAR(160)  NOT NULL,\\n    [artist_id] INTEGER  NOT NULL,\\n    FOREIGN KEY ([artist_id]) REFERENCES [artist] ([artist_id]) \\n\\t\\tON DELETE NO ACTION ON UPDATE NO ACTION\\n)'),\n",
       " ('table', 'artist', 'artist', 3, 'CREATE TABLE [artist]\\n(\\n    [artist_id] INTEGER PRIMARY KEY NOT NULL,\\n    [name] NVARCHAR(120)\\n)'),\n",
       " ('table', 'customer', 'customer', 4, 'CREATE TABLE [customer]\\n(\\n    [customer_id] INTEGER PRIMARY KEY NOT NULL,\\n    [first_name] NVARCHAR(40)  NOT NULL,\\n    [last_name] NVARCHAR(20)   ... (276 characters truncated) ...  [support_rep_id] INTEGER,\\n    FOREIGN KEY ([support_rep_id]) REFERENCES [employee] ([employee_id]) \\n\\t\\tON DELETE NO ACTION ON UPDATE NO ACTION\\n)'),\n",
       " ('table', 'employee', 'employee', 5, 'CREATE TABLE [employee]\\n(\\n    [employee_id] INTEGER PRIMARY KEY NOT NULL,\\n    [last_name] NVARCHAR(20)  NOT NULL,\\n    [first_name] NVARCHAR(20)   ... (310 characters truncated) ... 4),\\n    [email] NVARCHAR(60),\\n    FOREIGN KEY ([reports_to]) REFERENCES [employee] ([employee_id]) \\n\\t\\tON DELETE NO ACTION ON UPDATE NO ACTION\\n)'),\n",
       " ('table', 'genre', 'genre', 6, 'CREATE TABLE [genre]\\n(\\n    [genre_id] INTEGER PRIMARY KEY NOT NULL,\\n    [name] NVARCHAR(120)\\n)'),\n",
       " ('table', 'invoice', 'invoice', 7, 'CREATE TABLE [invoice]\\n(\\n    [invoice_id] INTEGER PRIMARY KEY NOT NULL,\\n    [customer_id] INTEGER  NOT NULL,\\n    [invoice_date] DATETIME  NOT NUL ... (195 characters truncated) ... tal] NUMERIC(10,2)  NOT NULL,\\n    FOREIGN KEY ([customer_id]) REFERENCES [customer] ([customer_id]) \\n\\t\\tON DELETE NO ACTION ON UPDATE NO ACTION\\n)'),\n",
       " ('table', 'invoice_line', 'invoice_line', 8, 'CREATE TABLE [invoice_line]\\n(\\n    [invoice_line_id] INTEGER PRIMARY KEY NOT NULL,\\n    [invoice_id] INTEGER  NOT NULL,\\n    [track_id] INTEGER  NOT ... (161 characters truncated) ...  DELETE NO ACTION ON UPDATE NO ACTION,\\n    FOREIGN KEY ([track_id]) REFERENCES [track] ([track_id]) \\n\\t\\tON DELETE NO ACTION ON UPDATE NO ACTION\\n)'),\n",
       " ('table', 'media_type', 'media_type', 9, 'CREATE TABLE [media_type]\\n(\\n    [media_type_id] INTEGER PRIMARY KEY NOT NULL,\\n    [name] NVARCHAR(120)\\n)'),\n",
       " ('table', 'playlist', 'playlist', 10, 'CREATE TABLE [playlist]\\n(\\n    [playlist_id] INTEGER PRIMARY KEY NOT NULL,\\n    [name] NVARCHAR(120)\\n)'),\n",
       " ('table', 'playlist_track', 'playlist_track', 11, 'CREATE TABLE [playlist_track]\\n(\\n    [playlist_id] INTEGER  NOT NULL,\\n    [track_id] INTEGER  NOT NULL,\\n    CONSTRAINT [pk_playlist_track] PRIMARY ... (114 characters truncated) ...  DELETE NO ACTION ON UPDATE NO ACTION,\\n    FOREIGN KEY ([track_id]) REFERENCES [track] ([track_id]) \\n\\t\\tON DELETE NO ACTION ON UPDATE NO ACTION\\n)'),\n",
       " ('table', 'track', 'track', 13, 'CREATE TABLE [track]\\n(\\n    [track_id] INTEGER PRIMARY KEY NOT NULL,\\n    [name] NVARCHAR(200)  NOT NULL,\\n    [album_id] INTEGER,\\n    [media_type_ ... (377 characters truncated) ... ON ON UPDATE NO ACTION,\\n    FOREIGN KEY ([media_type_id]) REFERENCES [media_type] ([media_type_id]) \\n\\t\\tON DELETE NO ACTION ON UPDATE NO ACTION\\n)')]"
      ]
     },
     "execution_count": 2,
     "metadata": {},
     "output_type": "execute_result"
    }
   ],
   "source": [
    "%%sql\n",
    "SELECT *\n",
    "  FROM sqlite_master\n",
    " WHERE type='table';"
   ]
  },
  {
   "cell_type": "code",
   "execution_count": 5,
   "metadata": {},
   "outputs": [],
   "source": [
    "# Tracks sold in USA per genre"
   ]
  },
  {
   "cell_type": "code",
   "execution_count": null,
   "metadata": {},
   "outputs": [],
   "source": [
    "SELECT "
   ]
  },
  {
   "cell_type": "code",
   "execution_count": null,
   "metadata": {},
   "outputs": [],
   "source": []
  },
  {
   "cell_type": "code",
   "execution_count": null,
   "metadata": {},
   "outputs": [],
   "source": []
  }
 ],
 "metadata": {
  "kernelspec": {
   "display_name": "Python 3.8.5 64-bit",
   "language": "python",
   "name": "python38564bit32606c3f255b49458e44ad0ee5405ef5"
  },
  "language_info": {
   "codemirror_mode": {
    "name": "ipython",
    "version": 3
   },
   "file_extension": ".py",
   "mimetype": "text/x-python",
   "name": "python",
   "nbconvert_exporter": "python",
   "pygments_lexer": "ipython3",
   "version": "3.8.5"
  }
 },
 "nbformat": 4,
 "nbformat_minor": 4
}
